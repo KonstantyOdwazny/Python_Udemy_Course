{
 "cells": [
  {
   "cell_type": "code",
   "execution_count": null,
   "metadata": {},
   "outputs": [],
   "source": [
    "import numpy as np\n"
   ]
  }
 ],
 "metadata": {
  "kernelspec": {
   "display_name": "Python 3.9.13 ('venv': venv)",
   "language": "python",
   "name": "python3"
  },
  "language_info": {
   "name": "python",
   "version": "3.9.13"
  },
  "orig_nbformat": 4,
  "vscode": {
   "interpreter": {
    "hash": "091182efb3b464207fc6a11d419a2719b8aa05c991fd99b7659b2b407e341d37"
   }
  }
 },
 "nbformat": 4,
 "nbformat_minor": 2
}
