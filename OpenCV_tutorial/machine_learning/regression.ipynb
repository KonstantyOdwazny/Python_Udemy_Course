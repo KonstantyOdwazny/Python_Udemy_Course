{
 "cells": [
  {
   "cell_type": "code",
   "execution_count": 1,
   "metadata": {},
   "outputs": [],
   "source": [
    "import numpy as np\n",
    "from matplotlib import pyplot as plt"
   ]
  },
  {
   "cell_type": "markdown",
   "metadata": {},
   "source": [
    "Dodanie bibliotek\n"
   ]
  },
  {
   "cell_type": "code",
   "execution_count": 2,
   "metadata": {},
   "outputs": [],
   "source": [
    "n_pts = 100 #liczba punktów\n",
    "np.random.seed(0) # sprawia, że za kązdym razem pojawią się te same liczby\n",
    "bias = np.ones(n_pts) # dodanie stałej\n",
    "top_region = np.array([np.random.normal(10, 2, n_pts), np.random.normal(12,2,n_pts), bias]).T\n",
    "bottom_regio = np.array([np.random.normal(5,2,n_pts), np.random.normal(6,2,n_pts), bias]).T\n",
    "all_points = np.vstack((top_region, bottom_regio)) # złożenie dwóch wektorów \n",
    "# Losowe pierwsze parametry\n",
    "# w1 = -0.2\n",
    "# w2 = -0.35\n",
    "# b = 3.5\n",
    "line_parameters = np.matrix([np.zeros(3)]).T # używamy matrix, żeby był to wektor pionowy, aby móc wykonać mnożenie macierzy\n",
    "# x1 = np.array([bottom_regio[:, 0].min(), top_region[:,0].max()])  # minimalna wartosc x\n",
    "# x2 = (-b - w1*x1)/(w2)\n",
    "y = np.array([np.zeros(n_pts), np.ones(n_pts)]).reshape(2*n_pts, 1)"
   ]
  },
  {
   "cell_type": "markdown",
   "metadata": {},
   "source": [
    "1. Losowanie liczb do wykresu \n",
    "2. Następnie tworzymy wektory puntków i łączymy je w jeden \n",
    "3. Dajemy **warunki początkowe**, żeby stowrzyć pierwszą losową **linię regresji**, którą następnie będziemy poprawiać \n",
    "* Wzór na linię regresji to: $0 = w1*x_{1} + w2*x_{2} + b$\n"
   ]
  },
  {
   "cell_type": "markdown",
   "metadata": {
    "tags": []
   },
   "source": [
    "Sigmoid, funkcja którą użyjemy do obliczenia prawdobodobieństwa przynależności do zbioru: \n",
    "**f = $\\frac{1}{1+e^{-x}}$** \\\n",
    "Kody do edytowania tekstu w `Jupyter Notebook` Markdow jest <a href=\"https://www.earthdatascience.org/courses/intro-to-earth-data-science/file-formats/use-text-files/format-text-with-markdown-jupyter-notebook/\" target= \"_blank\" >pod tym linkiem</a> \\\n",
    "Do `matematycznych wzorów ` <a href=\"https://medium.com/analytics-vidhya/writing-math-equations-in-jupyter-notebook-a-naive-introduction-a5ce87b9a214\" target=\"_blank\"> tutaj </a>"
   ]
  },
  {
   "cell_type": "code",
   "execution_count": 7,
   "metadata": {},
   "outputs": [],
   "source": [
    "def draw(x1, x2):\n",
    "    ln = plt.plot(x1,x2,'-')\n",
    "    \n",
    "def sigmoid(score):\n",
    "    return 1/(1+np.exp(-score))\n",
    "def calculate_error(line_parameters, points, y):\n",
    "    m = points.shape[0]\n",
    "    p = sigmoid(points * line_parameters)\n",
    "    cross_entrophy = (np.log(p).T * y + np.log(1-p).T *(1-y))/(-1*m)\n",
    "    return cross_entrophy\n",
    "def gradient_descent(line_parameters, points, y, alpha):\n",
    "    m = points.shape[0]\n",
    "    for i in range(2000):\n",
    "        p = sigmoid(points*line_parameters)\n",
    "        gradeint = points.T * (p - y) * (alpha/m)\n",
    "        line_parameters = line_parameters - gradeint\n",
    "        w1 = line_parameters.item(0)\n",
    "        w2 = line_parameters.item(1)\n",
    "        b = line_parameters.item(2)\n",
    "        x1 = np.array([points[:, 0].min(), points[:,0].max()])  # minimalna wartosc x\n",
    "        x2 = (-b - w1*x1)/(w2)\n",
    "    draw(x1,x2)\n",
    "    return line_parameters"
   ]
  },
  {
   "cell_type": "markdown",
   "metadata": {},
   "source": [
    "Funkcja do wyrysowania linii: `draw` \\\n",
    "Funkcja do obliczania prawdopodobieństwa `sigmoid`"
   ]
  },
  {
   "cell_type": "code",
   "execution_count": 8,
   "metadata": {},
   "outputs": [
    {
     "data": {
      "image/png": "[encoded data removed]",
      "text/plain": [
       "<Figure size 400x400 with 1 Axes>"
      ]
     },
     "metadata": {},
     "output_type": "display_data"
    }
   ],
   "source": [
    "_, ax = plt.subplots(figsize= (4,4))\n",
    "ax.scatter(top_region[:, 0], top_region[:, 1], color='r')\n",
    "ax.scatter(bottom_regio[:, 0], bottom_regio[:, 1], color='b')\n",
    "line_parameters = gradient_descent(line_parameters, all_points, y, 0.1)\n",
    "# draw(x1,x2)\n",
    "plt.show()"
   ]
  },
  {
   "cell_type": "markdown",
   "metadata": {},
   "source": [
    "***\n",
    "Rysowanie wykresu\n",
    "***"
   ]
  },
  {
   "cell_type": "code",
   "execution_count": 9,
   "metadata": {},
   "outputs": [],
   "source": [
    "linear_combination = all_points * line_parameters\n",
    "probability = sigmoid(linear_combination)\n"
   ]
  },
  {
   "cell_type": "markdown",
   "metadata": {},
   "source": [
    "Obliczanie prawdopodobieństwa za pomocą funkcji `sigmoid`"
   ]
  },
  {
   "cell_type": "code",
   "execution_count": 10,
   "metadata": {},
   "outputs": [],
   "source": [
    "e = calculate_error(line_parameters, all_points, y)"
   ]
  },
  {
   "cell_type": "markdown",
   "metadata": {},
   "source": [
    "Obliczanie błedu naszej linii odzielającej dwa zbiory. \n",
    "***\n",
    "Błąd obliczamy za pomocą wzoru $ \\frac{-\\sum ln(p)*y + ln(1-p) *(1-y)}{m} $ \n",
    "***\n",
    "Gdzie **p - prawdopodobieństwo, y-labels(0 lub 1), m-liczba punktów**"
   ]
  },
  {
   "cell_type": "markdown",
   "metadata": {},
   "source": [
    "**Wzór na gradient: $\\frac{pts * (p-y)}{m}$**"
   ]
  }
 ],
 "metadata": {
  "kernelspec": {
   "display_name": "Python 3.9.13 ('venv': venv)",
   "language": "python",
   "name": "python3"
  },
  "language_info": {
   "codemirror_mode": {
    "name": "ipython",
    "version": 3
   },
   "file_extension": ".py",
   "mimetype": "text/x-python",
   "name": "python",
   "nbconvert_exporter": "python",
   "pygments_lexer": "ipython3",
   "version": "3.9.13"
  },
  "orig_nbformat": 4,
  "vscode": {
   "interpreter": {
    "hash": "091182efb3b464207fc6a11d419a2719b8aa05c991fd99b7659b2b407e341d37"
   }
  }
 },
 "nbformat": 4,
 "nbformat_minor": 2
}
